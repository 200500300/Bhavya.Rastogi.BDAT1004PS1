{
 "cells": [
  {
   "cell_type": "markdown",
   "id": "9748ca0b",
   "metadata": {},
   "source": [
    "# BDAT 1004 – Data Programming \n",
    "\n"
   ]
  },
  {
   "cell_type": "markdown",
   "id": "ebd0e8fd",
   "metadata": {},
   "source": [
    "# Problem Set 1\n",
    "**Student ID: 200500300**"
   ]
  },
  {
   "cell_type": "markdown",
   "id": "c1c2b1cf",
   "metadata": {},
   "source": [
    "### Question 1 C#\n",
    "**What data type is each of the following?**"
   ]
  },
  {
   "cell_type": "code",
   "execution_count": 135,
   "id": "ef256c31",
   "metadata": {},
   "outputs": [
    {
     "name": "stdout",
     "output_type": "stream",
     "text": [
      "System.Int32\r\n"
     ]
    }
   ],
   "source": [
    "// 5\n",
    "object a = 5;\n",
    "Console.WriteLine(a.GetType());"
   ]
  },
  {
   "cell_type": "code",
   "execution_count": 136,
   "id": "d7ac0bde",
   "metadata": {},
   "outputs": [
    {
     "name": "stdout",
     "output_type": "stream",
     "text": [
      "System.Double\r\n"
     ]
    }
   ],
   "source": [
    "//5.0\n",
    "object b=5.0;\n",
    "Console.WriteLine(b.GetType());"
   ]
  },
  {
   "cell_type": "code",
   "execution_count": 5,
   "id": "fde4ead4",
   "metadata": {},
   "outputs": [
    {
     "name": "stdout",
     "output_type": "stream",
     "text": [
      "System.Boolean\r\n"
     ]
    }
   ],
   "source": [
    "bool c = 5 > 1;\n",
    "Console.WriteLine(c.GetType());"
   ]
  },
  {
   "cell_type": "code",
   "execution_count": 8,
   "id": "d35f3c87",
   "metadata": {},
   "outputs": [
    {
     "name": "stdout",
     "output_type": "stream",
     "text": [
      "System.Char\r\n"
     ]
    }
   ],
   "source": [
    "char d ='5';\n",
    "Console.WriteLine(d.GetType());"
   ]
  },
  {
   "cell_type": "code",
   "execution_count": 9,
   "id": "3e7721b6",
   "metadata": {},
   "outputs": [
    {
     "name": "stdout",
     "output_type": "stream",
     "text": [
      "System.Int32\r\n"
     ]
    }
   ],
   "source": [
    "int e = 5 * 2;\n",
    "Console.WriteLine(e.GetType());"
   ]
  },
  {
   "cell_type": "code",
   "execution_count": 5,
   "id": "1bed63ab",
   "metadata": {},
   "outputs": [
    {
     "name": "stdout",
     "output_type": "stream",
     "text": [
      "System.Int32\n",
      "System.Int32\n"
     ]
    }
   ],
   "source": [
    "object f ='5' * 2;\n",
    "object g ='5' + '2';\n",
    "Console.WriteLine(f.GetType());\n",
    "Console.WriteLine(g.GetType());"
   ]
  },
  {
   "cell_type": "code",
   "execution_count": 19,
   "id": "dbad2d2d",
   "metadata": {},
   "outputs": [
    {
     "name": "stdout",
     "output_type": "stream",
     "text": [
      "System.Int32\n",
      "System.Int32\n"
     ]
    }
   ],
   "source": [
    "object h = 5 / 2;\n",
    "object i = 5 % 2;\n",
    "Console.WriteLine(h.GetType());\n",
    "Console.WriteLine(i.GetType());"
   ]
  },
  {
   "cell_type": "code",
   "execution_count": 29,
   "id": "af4587bc",
   "metadata": {},
   "outputs": [
    {
     "name": "stdout",
     "output_type": "stream",
     "text": [
      "System.Int32[]\r\n"
     ]
    }
   ],
   "source": [
    "object j = new int[3]{5, 2, 1};\n",
    "Console.WriteLine(j.GetType());"
   ]
  },
  {
   "cell_type": "code",
   "execution_count": 21,
   "id": "e9924b4c",
   "metadata": {},
   "outputs": [
    {
     "name": "stdout",
     "output_type": "stream",
     "text": [
      "System.Boolean\r\n"
     ]
    }
   ],
   "source": [
    "object k = 5==3;\n",
    "Console.WriteLine(k.GetType());"
   ]
  },
  {
   "cell_type": "code",
   "execution_count": 26,
   "id": "2761c1cd",
   "metadata": {},
   "outputs": [
    {
     "name": "stdout",
     "output_type": "stream",
     "text": [
      "System.Double\r\n"
     ]
    }
   ],
   "source": [
    "object l= Math.PI ;\n",
    "Console.WriteLine(l.GetType());"
   ]
  },
  {
   "cell_type": "markdown",
   "id": "bf1105f5",
   "metadata": {},
   "source": [
    "# Question2\n",
    "\n",
    "Write (and evaluate) C# expressions that answer these questions:\n",
    "\n",
    "**a. How many letters are there in 'Supercalifragilisticexpialidocious'?**"
   ]
  },
  {
   "cell_type": "code",
   "execution_count": 29,
   "id": "6becf139",
   "metadata": {},
   "outputs": [
    {
     "name": "stdout",
     "output_type": "stream",
     "text": [
      " Length 34\r\n"
     ]
    }
   ],
   "source": [
    "string str =\"Supercalifragilisticexpialidocious\";\n",
    "int len=0;\n",
    "foreach (char c in str)\n",
    "{\n",
    "         len+=1;\n",
    "}\n",
    "Console.WriteLine(\" Length {0}\",len)\n",
    "\n"
   ]
  },
  {
   "cell_type": "markdown",
   "id": "1354dfcd",
   "metadata": {},
   "source": [
    " **b. Does 'Supercalifragilisticexpialidocious' contain 'ice' as a substring?**"
   ]
  },
  {
   "cell_type": "code",
   "execution_count": 47,
   "id": "a757634f",
   "metadata": {},
   "outputs": [
    {
     "name": "stdout",
     "output_type": "stream",
     "text": [
      "ice\r\n"
     ]
    }
   ],
   "source": [
    "string str =\"Supercalifragilisticexpialidocious\";\n",
    "Console.WriteLine(str.Substring(18,3));\n"
   ]
  },
  {
   "cell_type": "markdown",
   "id": "7f13cd8c",
   "metadata": {},
   "source": [
    "**c. Which of the following words is the longest:**\n",
    "\n",
    "Supercalifragilisticexpialidocious, Honorificabilitudinitatibus, or\n",
    "Bababadalgharaghtakamminarronnkonn? "
   ]
  },
  {
   "cell_type": "code",
   "execution_count": 11,
   "id": "684db3a7",
   "metadata": {},
   "outputs": [
    {
     "name": "stdout",
     "output_type": "stream",
     "text": [
      "Length of Supercalifragilisticexpialidocious is 34\n",
      "Length of Honorificabilitudinitatibus is 27\n",
      "Length of Bababadalgharaghtakamminarronnkonn is 34\n",
      "Longest length is : 34\n",
      "The Longest Word are : Supercalifragilisticexpialidocious , Bababadalgharaghtakamminarronnkonn\n"
     ]
    }
   ],
   "source": [
    "int str1len =\"Supercalifragilisticexpialidocious\".Length;\n",
    "string str1 =\"Supercalifragilisticexpialidocious\";\n",
    "int str2len =\"Honorificabilitudinitatibus\".Length;\n",
    "string str2 =\"Honorificabilitudinitatibus\";\n",
    "int str3len =\"Bababadalgharaghtakamminarronnkonn\".Length;\n",
    "string str3 =\"Bababadalgharaghtakamminarronnkonn\";\n",
    "Console.WriteLine(\"Length of Supercalifragilisticexpialidocious is {0}\", str1len);\n",
    "Console.WriteLine(\"Length of Honorificabilitudinitatibus is {0}\", str2len);\n",
    "Console.WriteLine(\"Length of Bababadalgharaghtakamminarronnkonn is {0}\", str3len);\n",
    "\n",
    "int result = Math.Max(str1len,str2len);\n",
    "result = Math.Max(result,str3len);\n",
    "Console.WriteLine(\"Longest length is : \" + result);\n",
    "Console.WriteLine(\"The Longest Word are : {0} , {1}\",str1 , str3);"
   ]
  },
  {
   "cell_type": "markdown",
   "id": "bb422754",
   "metadata": {},
   "source": [
    "# \n",
    "**d. Which composer comes first in the dictionary:**\n",
    "\n",
    "'Berlioz', 'Borodin', 'Brian', 'Bartok', 'Bellini', 'Buxtehude', 'Bernstein'. Which one comes last?"
   ]
  },
  {
   "cell_type": "code",
   "execution_count": 73,
   "id": "202cfcaa",
   "metadata": {},
   "outputs": [
    {
     "name": "stdout",
     "output_type": "stream",
     "text": [
      "Bartok\n",
      "Bellini\n",
      "Berlioz\n",
      "Bernstein\n",
      "Borodin\n",
      "Brian\n",
      "Buxtehude\n"
     ]
    }
   ],
   "source": [
    "var names = new SortedDictionary<string,int>();\n",
    "\n",
    " names.Add(\"Berlioz\",1);\n",
    " names.Add(\"Borodin\",2);\n",
    " names.Add(\"Brian\",3);\n",
    " names.Add(\"Bartok\",4);\n",
    " names.Add(\"Bellini\",5);\n",
    " names.Add(\"Buxtehude\",6);\n",
    " names.Add(\"Bernstein\",7);\n",
    " \n",
    "\n",
    "  foreach(var kvp in names)\n",
    "  {\n",
    "     Console.WriteLine($\"{kvp.Key}\");\n",
    "     \n",
    "  }\n",
    "Console.ReadLine();"
   ]
  },
  {
   "cell_type": "markdown",
   "id": "d7badf1e",
   "metadata": {},
   "source": [
    "# Question3"
   ]
  },
  {
   "cell_type": "code",
   "execution_count": 26,
   "id": "898881d6",
   "metadata": {},
   "outputs": [
    {
     "name": "stdout",
     "output_type": "stream",
     "text": [
      "Value of s : 3\n",
      "By Heron's formula, the Area of Triangle : 1.7320508075688772\n"
     ]
    }
   ],
   "source": [
    "double a=2;\n",
    "double b=2;\n",
    "double c=2;\n",
    "double s = (a+b+c)/2;\n",
    "Console.WriteLine(\"Value of s : {0}\", s);\n",
    "double Result = Math.Sqrt(s*(s-a)*(s-b)*(s-c));\n",
    "Console.WriteLine(\"By Heron's formula, the Area of Triangle : {0}\" ,Result);"
   ]
  },
  {
   "cell_type": "markdown",
   "id": "0bd79b71",
   "metadata": {},
   "source": [
    "# Question4"
   ]
  },
  {
   "cell_type": "code",
   "execution_count": 103,
   "id": "63ea515f",
   "metadata": {},
   "outputs": [
    {
     "name": "stdout",
     "output_type": "stream",
     "text": [
      "The Elements are 25, 47, 42, 56, 32\n",
      "Odd number is : 25\n",
      "Odd number is : 47\n",
      "Even number is : 42\n",
      "Even number is : 56\n",
      "Even number is : 32\n",
      "\n"
     ]
    }
   ],
   "source": [
    "int[] elements = {25, 47, 42, 56, 32};\n",
    "Console.WriteLine(\"The Elements are 25, 47, 42, 56, 32\");\n",
    "foreach(int num in elements)\n",
    "{\n",
    "    if (num%2 ==0)\n",
    "        Console.WriteLine(\"Even number is : {0}\",num);\n",
    "    else\n",
    "        Console.WriteLine(\"Odd number is : {0}\",num);\n",
    "}\n",
    "Console.WriteLine()\n",
    "    "
   ]
  },
  {
   "cell_type": "markdown",
   "id": "1fb6294a",
   "metadata": {},
   "source": [
    "# Question5\n",
    "**(a)**"
   ]
  },
  {
   "cell_type": "code",
   "execution_count": 131,
   "id": "60c5c181",
   "metadata": {},
   "outputs": [
    {
     "name": "stdout",
     "output_type": "stream",
     "text": [
      "True"
     ]
    }
   ],
   "source": [
    "public bool inside(double x, double y , double x1, double y1 , double x2, double y2)\n",
    "{\n",
    "    if(x<x2 && x>x1 && y<y2 && y>y1)\n",
    "        {\n",
    "        return true;\n",
    "        }\n",
    "    else\n",
    "        {\n",
    "        return false;\n",
    "        }\n",
    "    } \n",
    "bool result = inside (1,1,0,0,2,3);\n",
    "Console.Write(result)\n"
   ]
  },
  {
   "cell_type": "code",
   "execution_count": 132,
   "id": "2a73e8c7",
   "metadata": {},
   "outputs": [
    {
     "name": "stdout",
     "output_type": "stream",
     "text": [
      "False"
     ]
    }
   ],
   "source": [
    "bool result = inside (-1,-1,0,0,2,3);\n",
    "Console.Write(result)"
   ]
  },
  {
   "cell_type": "markdown",
   "id": "de0836c1",
   "metadata": {},
   "source": [
    " **(b)**"
   ]
  },
  {
   "cell_type": "code",
   "execution_count": 133,
   "id": "c25a959a",
   "metadata": {},
   "outputs": [
    {
     "name": "stdout",
     "output_type": "stream",
     "text": [
      "False"
     ]
    }
   ],
   "source": [
    "bool result = inside (0.3,0.5,1,1,1.1,0.7);\n",
    "Console.Write(result)"
   ]
  },
  {
   "cell_type": "code",
   "execution_count": 134,
   "id": "07701652",
   "metadata": {},
   "outputs": [
    {
     "name": "stdout",
     "output_type": "stream",
     "text": [
      "False"
     ]
    }
   ],
   "source": [
    "bool result = inside (0.5,0.2,1,1,1.1,2);\n",
    "Console.Write(result)"
   ]
  },
  {
   "cell_type": "code",
   "execution_count": null,
   "id": "7e93cf5f",
   "metadata": {},
   "outputs": [],
   "source": []
  }
 ],
 "metadata": {
  "kernelspec": {
   "display_name": ".NET (C#)",
   "language": "C#",
   "name": ".net-csharp"
  },
  "language_info": {
   "file_extension": ".cs",
   "mimetype": "text/x-csharp",
   "name": "C#",
   "pygments_lexer": "csharp",
   "version": "8.0"
  }
 },
 "nbformat": 4,
 "nbformat_minor": 5
}
