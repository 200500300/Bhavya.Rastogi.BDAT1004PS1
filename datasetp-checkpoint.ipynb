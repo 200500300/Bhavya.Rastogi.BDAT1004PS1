{
 "cells": [
  {
   "cell_type": "markdown",
   "id": "beb95318",
   "metadata": {},
   "source": [
    "# Question 6"
   ]
  },
  {
   "cell_type": "code",
   "execution_count": 5,
   "id": "c6d37b22",
   "metadata": {},
   "outputs": [
    {
     "name": "stdout",
     "output_type": "stream",
     "text": [
      "Enter\n",
      "first alphabet is a vowel\n",
      "The word in Pig Latin is: ntereay\n"
     ]
    }
   ],
   "source": [
    "con = 'ay'    #suffix for consonants\n",
    "vow = 'way'                                           #suffix for vowels\n",
    "vowel = ('A','E','I','O','U')\n",
    "word = input()\n",
    "\n",
    "first_alpha = word[0]\n",
    "first_alpha =first_alpha.lower()\n",
    "\n",
    "if first_alpha in vowel:\n",
    "    print(\"first_alpha,’is a vowel’\")\n",
    "    final_wor = word+'way'                                 #add 'way' \n",
    "    print('The word in Pig Latin is:',final_wor)  \n",
    "    \n",
    "else:\n",
    "    print(\"first alphabet is a vowel\")\n",
    "    length = len(word)                                   #length of the word\n",
    "    remove_alpha = word[1:length]                        #remove the first letter\n",
    "    final_word =remove_alpha+first_alpha+'ay'              #final word\n",
    "    print(\"The word in Pig Latin is:\",final_word)\n"
   ]
  },
  {
   "cell_type": "code",
   "execution_count": 4,
   "id": "8bee1dee",
   "metadata": {},
   "outputs": [
    {
     "name": "stdout",
     "output_type": "stream",
     "text": [
      "happy\n",
      "first alphabet is a consonant\n",
      "The word in Pig Latin is: appyhay\n"
     ]
    }
   ],
   "source": [
    "\n",
    "con = 'ay'    #suffix for consonants\n",
    "vow = 'way'                                           #suffix for vowels\n",
    "vowel = ('A','E','I','O','U')\n",
    "word = input()\n",
    "\n",
    "first_alpha = word[0]\n",
    "first_alpha =first_alpha.lower()\n",
    "\n",
    "if first_alpha in vowel:\n",
    "    print(\"first_alpha,’is a vowel’\")\n",
    "    final_wor = word+'way'                                 #add 'way' \n",
    "    print('The word in Pig Latin is:',final_wor)  \n",
    "    \n",
    "else:\n",
    "    print(\"first alphabet is a consonant\")\n",
    "    length = len(word)                                   #length of the word\n",
    "    remove_alpha = word[1:length]                        #remove the first letter\n",
    "    final_word =remove_alpha+first_alpha+'ay'              #final word\n",
    "    print(\"The word in Pig Latin is:\",final_word)\n",
    "\n"
   ]
  },
  {
   "cell_type": "markdown",
   "id": "55743657",
   "metadata": {},
   "source": [
    "# Question 7"
   ]
  },
  {
   "cell_type": "code",
   "execution_count": 9,
   "id": "ab869be9",
   "metadata": {},
   "outputs": [
    {
     "name": "stdout",
     "output_type": "stream",
     "text": [
      "AB AB B O A A AB O AB A O O A A A O O O AB O A A A A A AB AB A AB O AB O A O O O AB O AB AB AB A A O \n",
      "There are 13 patients of blood type AB\n",
      "There are 15 patients of blood type A\n",
      "There is one patient of blood type B\n",
      "There are 15 patients of blood type O\n",
      "There are no patients of blood type OO\n"
     ]
    }
   ],
   "source": [
    "def bldcount(name):\n",
    "    with open(name, 'r') as file1:\n",
    "        blood_text =file1.read()\n",
    "        print(blood_text)\n",
    "    blood_text = blood_text.split()\n",
    "    btype = ['AB', 'A', 'B', 'O', 'OO']                #list of blood type\n",
    "    for j in btype:   \n",
    "        if blood_text.count(j)== 0:\n",
    "            print(\"There are no patients of blood type \" +j)  # When count is 0 \n",
    "        elif blood_text.count(j) == 1:\n",
    "            print(\"There is one patient of blood type \" +j)   # When count is 1\n",
    "        else:\n",
    "            print(\"There are \"+ str(blood_text.count(j)) + \" patients of blood type \" +j )  #when count is more than 1\n",
    "            \n",
    "bldcount(r'C:\\Users\\hp\\Desktop\\maths\\bloodtype1.txt'); "
   ]
  },
  {
   "cell_type": "markdown",
   "id": "e75cb3a4",
   "metadata": {},
   "source": [
    "# Question 8"
   ]
  },
  {
   "cell_type": "code",
   "execution_count": 13,
   "id": "a8fb3579",
   "metadata": {},
   "outputs": [
    {
     "name": "stdout",
     "output_type": "stream",
     "text": [
      "Enter country code and value\n",
      "EUR\n",
      "100\n",
      "[['AUD', '1.0345157', 'Australian', 'Dollar'], ['CHF', '1.0237414', 'Swiss', 'Franc'], ['CNY', '0.1550176', 'Chinese', 'Yuan'], ['DKK', '0.1651442', 'Danish', 'Krone'], ['EUR', '1.2296544', 'Euro'], ['GBP', '1.5550989', 'British', 'Pound'], ['HKD', '0.1270207', 'Hong', 'Kong', 'Dollar'], ['INR', '0.0177643', 'Indian', 'Rupee'], ['JPY', '0.01241401', 'Japanese', 'Yen'], ['MXN', '0.0751848', 'Mexican', 'Peso'], ['MYR', '0.3145411', 'Malaysian', 'Ringgit'], ['NOK', '0.1677063', 'Norwegian', 'Krone'], ['NZD', '0.8003591', 'New', 'Zealand', 'Dollar'], ['PHP', '0.0233234', 'Philippine', 'Peso'], ['SEK', '0.148269', 'Swedish', 'Krona'], ['SGD', '0.788871', 'Singapore', 'Dollar'], ['THB', '0.0313789', 'Thai', 'Baht']]\n",
      "The converted rate is 122.96544\n"
     ]
    }
   ],
   "source": [
    "def curconv(cur_code, values):\n",
    "    with open(\"currencies.txt\") as file1:\n",
    "       currency=list(file1.readlines())\n",
    "       d1=\"\"\n",
    "       d2=[]\n",
    "       value=0\n",
    "       for j in currency:\n",
    "           d1=j\n",
    "           d1=j.split()\n",
    "           d2.append(d1)\n",
    "       print(d2)\n",
    "       for i in d2:\n",
    "            if(cur_code==i[0]):\n",
    "                value=float(i[1])*values\n",
    "                print(\"The converted rate is {}\".format(value))\n",
    "print(\"Enter country code and value\")\n",
    "currencyy=input()\n",
    "value=float(input())\n",
    "curconv(currencyy,value)"
   ]
  },
  {
   "cell_type": "markdown",
   "id": "2160de68",
   "metadata": {},
   "source": [
    "# Question 9"
   ]
  },
  {
   "cell_type": "code",
   "execution_count": 57,
   "id": "c5bdc550",
   "metadata": {},
   "outputs": [
    {
     "ename": "TypeError",
     "evalue": "unsupported operand type(s) for +: 'int' and 'str'",
     "output_type": "error",
     "traceback": [
      "\u001b[1;31m---------------------------------------------------------------------------\u001b[0m",
      "\u001b[1;31mTypeError\u001b[0m                                 Traceback (most recent call last)",
      "\u001b[1;32m~\\AppData\\Local\\Temp/ipykernel_7256/2825678869.py\u001b[0m in \u001b[0;36m<module>\u001b[1;34m\u001b[0m\n\u001b[1;32m----> 1\u001b[1;33m \u001b[0mcase1\u001b[0m \u001b[1;33m=\u001b[0m \u001b[1;36m6\u001b[0m\u001b[1;33m+\u001b[0m\u001b[1;34m'a'\u001b[0m\u001b[1;33m\u001b[0m\u001b[1;33m\u001b[0m\u001b[0m\n\u001b[0m\u001b[0;32m      2\u001b[0m \u001b[1;31m#syntax error\u001b[0m\u001b[1;33m\u001b[0m\u001b[1;33m\u001b[0m\u001b[0m\n",
      "\u001b[1;31mTypeError\u001b[0m: unsupported operand type(s) for +: 'int' and 'str'"
     ]
    }
   ],
   "source": [
    "\n",
    "case1 = 6+'a'\n",
    "#syntax error"
   ]
  },
  {
   "cell_type": "code",
   "execution_count": 1,
   "id": "82d5e939",
   "metadata": {},
   "outputs": [
    {
     "ename": "IndexError",
     "evalue": "list index out of range",
     "output_type": "error",
     "traceback": [
      "\u001b[1;31m---------------------------------------------------------------------------\u001b[0m",
      "\u001b[1;31mIndexError\u001b[0m                                Traceback (most recent call last)",
      "\u001b[1;32m~\\AppData\\Local\\Temp/ipykernel_7256/1685504715.py\u001b[0m in \u001b[0;36m<module>\u001b[1;34m\u001b[0m\n\u001b[0;32m      1\u001b[0m \u001b[0mmylist\u001b[0m \u001b[1;33m=\u001b[0m \u001b[1;33m[\u001b[0m\u001b[1;36m98\u001b[0m\u001b[1;33m,\u001b[0m \u001b[1;36m36\u001b[0m \u001b[1;33m,\u001b[0m \u001b[1;36m9\u001b[0m\u001b[1;33m,\u001b[0m \u001b[1;36m10\u001b[0m\u001b[1;33m,\u001b[0m \u001b[1;36m11\u001b[0m\u001b[1;33m,\u001b[0m\u001b[1;36m87\u001b[0m\u001b[1;33m,\u001b[0m \u001b[1;36m90\u001b[0m\u001b[1;33m,\u001b[0m \u001b[1;36m18\u001b[0m\u001b[1;33m,\u001b[0m \u001b[1;36m45\u001b[0m\u001b[1;33m,\u001b[0m \u001b[1;36m67\u001b[0m\u001b[1;33m]\u001b[0m\u001b[1;33m\u001b[0m\u001b[1;33m\u001b[0m\u001b[0m\n\u001b[1;32m----> 2\u001b[1;33m \u001b[0mprint\u001b[0m\u001b[1;33m(\u001b[0m\u001b[0mmylist\u001b[0m\u001b[1;33m[\u001b[0m\u001b[1;36m12\u001b[0m\u001b[1;33m]\u001b[0m\u001b[1;33m)\u001b[0m\u001b[1;33m\u001b[0m\u001b[1;33m\u001b[0m\u001b[0m\n\u001b[0m\u001b[0;32m      3\u001b[0m \u001b[1;31m#syntax error\u001b[0m\u001b[1;33m\u001b[0m\u001b[1;33m\u001b[0m\u001b[0m\n",
      "\u001b[1;31mIndexError\u001b[0m: list index out of range"
     ]
    }
   ],
   "source": [
    "mylist = [98, 36 , 9, 10, 11,87, 90, 18, 45, 67]\n",
    "print(mylist[12])\n",
    "#syntax error"
   ]
  },
  {
   "cell_type": "code",
   "execution_count": 11,
   "id": "f1b92013",
   "metadata": {},
   "outputs": [
    {
     "ename": "ValueError",
     "evalue": "math domain error",
     "output_type": "error",
     "traceback": [
      "\u001b[1;31m---------------------------------------------------------------------------\u001b[0m",
      "\u001b[1;31mValueError\u001b[0m                                Traceback (most recent call last)",
      "\u001b[1;32m~\\AppData\\Local\\Temp/ipykernel_7636/1308946552.py\u001b[0m in \u001b[0;36m<module>\u001b[1;34m\u001b[0m\n\u001b[0;32m      2\u001b[0m \u001b[1;33m\u001b[0m\u001b[0m\n\u001b[0;32m      3\u001b[0m \u001b[1;33m\u001b[0m\u001b[0m\n\u001b[1;32m----> 4\u001b[1;33m \u001b[0mmath\u001b[0m\u001b[1;33m.\u001b[0m\u001b[0msqrt\u001b[0m\u001b[1;33m(\u001b[0m\u001b[1;33m-\u001b[0m\u001b[1;36m1.0\u001b[0m\u001b[1;33m)\u001b[0m\u001b[1;33m\u001b[0m\u001b[1;33m\u001b[0m\u001b[0m\n\u001b[0m",
      "\u001b[1;31mValueError\u001b[0m: math domain error"
     ]
    }
   ],
   "source": [
    "import math\n",
    "math.sqrt(-1.0)"
   ]
  },
  {
   "cell_type": "code",
   "execution_count": 3,
   "id": "6e20881a",
   "metadata": {},
   "outputs": [
    {
     "ename": "NameError",
     "evalue": "name 'x' is not defined",
     "output_type": "error",
     "traceback": [
      "\u001b[1;31m---------------------------------------------------------------------------\u001b[0m",
      "\u001b[1;31mNameError\u001b[0m                                 Traceback (most recent call last)",
      "\u001b[1;32m~\\AppData\\Local\\Temp/ipykernel_7256/3683361071.py\u001b[0m in \u001b[0;36m<module>\u001b[1;34m\u001b[0m\n\u001b[1;32m----> 1\u001b[1;33m \u001b[0mprint\u001b[0m\u001b[1;33m(\u001b[0m\u001b[0mx\u001b[0m\u001b[1;33m)\u001b[0m\u001b[1;33m\u001b[0m\u001b[1;33m\u001b[0m\u001b[0m\n\u001b[0m\u001b[0;32m      2\u001b[0m \u001b[1;31m# type error\u001b[0m\u001b[1;33m\u001b[0m\u001b[1;33m\u001b[0m\u001b[0m\n",
      "\u001b[1;31mNameError\u001b[0m: name 'x' is not defined"
     ]
    }
   ],
   "source": [
    "print(x)\n",
    "# type error"
   ]
  },
  {
   "cell_type": "code",
   "execution_count": 4,
   "id": "992fadae",
   "metadata": {},
   "outputs": [
    {
     "ename": "FileNotFoundError",
     "evalue": "[Errno 2] No such file or directory: 'names.txt'",
     "output_type": "error",
     "traceback": [
      "\u001b[1;31m---------------------------------------------------------------------------\u001b[0m",
      "\u001b[1;31mFileNotFoundError\u001b[0m                         Traceback (most recent call last)",
      "\u001b[1;32m~\\AppData\\Local\\Temp/ipykernel_7256/1188128155.py\u001b[0m in \u001b[0;36m<module>\u001b[1;34m\u001b[0m\n\u001b[1;32m----> 1\u001b[1;33m \u001b[0minfile\u001b[0m \u001b[1;33m=\u001b[0m \u001b[0mopen\u001b[0m\u001b[1;33m(\u001b[0m\u001b[1;34m'names.txt'\u001b[0m\u001b[1;33m)\u001b[0m\u001b[1;33m\u001b[0m\u001b[1;33m\u001b[0m\u001b[0m\n\u001b[0m\u001b[0;32m      2\u001b[0m \u001b[1;31m#erroneous error\u001b[0m\u001b[1;33m\u001b[0m\u001b[1;33m\u001b[0m\u001b[0m\n",
      "\u001b[1;31mFileNotFoundError\u001b[0m: [Errno 2] No such file or directory: 'names.txt'"
     ]
    }
   ],
   "source": [
    "infile = open('names.txt')\n",
    "#erroneous error"
   ]
  },
  {
   "cell_type": "markdown",
   "id": "f8848bae",
   "metadata": {},
   "source": [
    "# Question 10"
   ]
  },
  {
   "cell_type": "code",
   "execution_count": 2,
   "id": "f6336d02",
   "metadata": {},
   "outputs": [
    {
     "name": "stdout",
     "output_type": "stream",
     "text": [
      "[1, 2, 5, 8, 1, 1, 1, 1, 1, 2, 3, 1, 4, 1, 1, 2, 1, 1, 2, 1, 1, 1]\n"
     ]
    }
   ],
   "source": [
    "def frequency(f):\n",
    "    d1 = {}\n",
    "    for c in f:\n",
    "            \n",
    "        if c in d1:\n",
    "            d1[c]+=1\n",
    "        else:\n",
    "            d1[c]=1\n",
    "    print(list(d1.values()))  \n",
    "    \n",
    "frequency(\"The quick red fox got bored and went home.\")\n"
   ]
  },
  {
   "cell_type": "code",
   "execution_count": 3,
   "id": "1a199be2",
   "metadata": {},
   "outputs": [
    {
     "name": "stdout",
     "output_type": "stream",
     "text": [
      "[1, 2, 1, 1]\n"
     ]
    }
   ],
   "source": [
    "frequency(\"apple\")"
   ]
  }
 ],
 "metadata": {
  "kernelspec": {
   "display_name": "Python 3 (ipykernel)",
   "language": "python",
   "name": "python3"
  },
  "language_info": {
   "codemirror_mode": {
    "name": "ipython",
    "version": 3
   },
   "file_extension": ".py",
   "mimetype": "text/x-python",
   "name": "python",
   "nbconvert_exporter": "python",
   "pygments_lexer": "ipython3",
   "version": "3.9.7"
  }
 },
 "nbformat": 4,
 "nbformat_minor": 5
}
